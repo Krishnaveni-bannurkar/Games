{
 "cells": [
  {
   "cell_type": "code",
   "execution_count": null,
   "id": "77f4d299",
   "metadata": {},
   "outputs": [],
   "source": [
    "import random\n",
    "min_val = 1\n",
    "max_val = 6\n",
    "dice_1 = random.randint(min_val, max_val)\n",
    "print('Dice One: ', dice_1)\n",
    "print(f'The value is: {dice_1}')"
   ]
  },
  {
   "cell_type": "code",
   "execution_count": null,
   "id": "f34dfacf",
   "metadata": {},
   "outputs": [
    {
     "name": "stdout",
     "output_type": "stream",
     "text": [
      "Number of dice: 8\n",
      "1 or 2 only\n",
      "Number of dice: 1\n",
      "Rolling the die...\n",
      "The value is: 6\n",
      "Roll Again? y\n"
     ]
    }
   ],
   "source": [
    "import random\n",
    "import os\n",
    "\n",
    "\n",
    "def num_die():\n",
    "  while True:\n",
    "      try:\n",
    "          num_dice = input('Number of dice: ')\n",
    "          valid_responses = ['1', 'one', 'two', '2']\n",
    "          if num_dice not in valid_responses:\n",
    "              raise ValueError('1 or 2 only')\n",
    "          else:\n",
    "              return num_dice\n",
    "      except ValueError as err:\n",
    "          print(err)\n",
    "\n",
    "\n",
    "def roll_dice():\n",
    "   min_val = 1\n",
    "   max_val = 6\n",
    "   roll_again = 'y'\n",
    "\n",
    "   while roll_again.lower() == 'yes' or roll_again.lower() == 'y':\n",
    "      \n",
    "       amount = num_die()\n",
    "\n",
    "       if amount == '2' or amount == 'two':\n",
    "           print('Rolling the dice...')\n",
    "           dice_1 = random.randint(min_val, max_val)\n",
    "           dice_2 = random.randint(min_val, max_val)\n",
    "\n",
    "           print('The values are:')\n",
    "           print('Dice One: ', dice_1)\n",
    "           print('Dice Two: ', dice_2)\n",
    "           print('Total: ', dice_1 + dice_2)\n",
    "\n",
    "           roll_again = input('Roll Again? ')\n",
    "       else:\n",
    "           print('Rolling the die...')\n",
    "           dice_1 = random.randint(min_val, max_val)\n",
    "           print(f'The value is: {dice_1}')\n",
    "\n",
    "           roll_again = input('Roll Again? ')\n",
    "\n",
    "\n",
    "if __name__ == '__main__':\n",
    "   roll_dice()"
   ]
  },
  {
   "cell_type": "code",
   "execution_count": null,
   "id": "1b25711e",
   "metadata": {},
   "outputs": [],
   "source": []
  }
 ],
 "metadata": {
  "kernelspec": {
   "display_name": "Python 3 (ipykernel)",
   "language": "python",
   "name": "python3"
  },
  "language_info": {
   "codemirror_mode": {
    "name": "ipython",
    "version": 3
   },
   "file_extension": ".py",
   "mimetype": "text/x-python",
   "name": "python",
   "nbconvert_exporter": "python",
   "pygments_lexer": "ipython3",
   "version": "3.9.13"
  }
 },
 "nbformat": 4,
 "nbformat_minor": 5
}
